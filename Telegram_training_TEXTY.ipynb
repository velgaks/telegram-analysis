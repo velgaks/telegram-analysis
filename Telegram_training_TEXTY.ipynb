{
  "cells": [
    {
      "cell_type": "markdown",
      "metadata": {
        "id": "view-in-github",
        "colab_type": "text"
      },
      "source": [
        "<a href=\"https://colab.research.google.com/github/velgaks/telegram-analysis/blob/main/Telegram_training_TEXTY.ipynb\" target=\"_parent\"><img src=\"https://colab.research.google.com/assets/colab-badge.svg\" alt=\"Open In Colab\"/></a>"
      ]
    },
    {
      "cell_type": "markdown",
      "id": "6a9abf92",
      "metadata": {
        "toc": true,
        "id": "6a9abf92"
      },
      "source": [
        "<h1>Table of Contents<span class=\"tocSkip\"></span></h1>\n",
        "<div class=\"toc\"><ul class=\"toc-item\"><li><span><a href=\"#А-може-вам-і-не-потрібно-щось-собі-завантажувати?\" data-toc-modified-id=\"А-може-вам-і-не-потрібно-щось-собі-завантажувати?-1\"><span class=\"toc-item-num\">1&nbsp;&nbsp;</span>А може вам і не потрібно щось собі завантажувати?</a></span></li><li><span><a href=\"#Json-parser\" data-toc-modified-id=\"Json-parser-2\"><span class=\"toc-item-num\">2&nbsp;&nbsp;</span>Json parser</a></span></li><li><span><a href=\"#snscrape\" data-toc-modified-id=\"snscrape-3\"><span class=\"toc-item-num\">3&nbsp;&nbsp;</span>snscrape</a></span><ul class=\"toc-item\"><li><span><a href=\"#from-terminal\" data-toc-modified-id=\"from-terminal-3.1\"><span class=\"toc-item-num\">3.1&nbsp;&nbsp;</span>from terminal</a></span></li><li><span><a href=\"#in-python\" data-toc-modified-id=\"in-python-3.2\"><span class=\"toc-item-num\">3.2&nbsp;&nbsp;</span>in python</a></span></li></ul></li><li><span><a href=\"#Telethon\" data-toc-modified-id=\"Telethon-4\"><span class=\"toc-item-num\">4&nbsp;&nbsp;</span>Telethon</a></span></li></ul></div>"
      ]
    },
    {
      "cell_type": "code",
      "execution_count": null,
      "id": "29784424",
      "metadata": {
        "id": "29784424"
      },
      "outputs": [],
      "source": [
        "import pandas as pd\n",
        "from datetime import datetime\n",
        "from tqdm import tqdm"
      ]
    },
    {
      "cell_type": "markdown",
      "id": "63372ebb",
      "metadata": {
        "id": "63372ebb"
      },
      "source": [
        "## А може вам і не потрібно щось собі завантажувати?\n",
        "https://tgsearch.com.ua/"
      ]
    },
    {
      "cell_type": "markdown",
      "id": "5425792f",
      "metadata": {
        "heading_collapsed": true,
        "id": "5425792f"
      },
      "source": [
        "## Json parser"
      ]
    },
    {
      "cell_type": "code",
      "execution_count": null,
      "id": "5ffaa93d",
      "metadata": {
        "hidden": true,
        "scrolled": true,
        "id": "5ffaa93d",
        "outputId": "4cb5b3f3-b87f-4310-9007-7675b20557d0"
      },
      "outputs": [
        {
          "data": {
            "text/html": [
              "<div>\n",
              "<style scoped>\n",
              "    .dataframe tbody tr th:only-of-type {\n",
              "        vertical-align: middle;\n",
              "    }\n",
              "\n",
              "    .dataframe tbody tr th {\n",
              "        vertical-align: top;\n",
              "    }\n",
              "\n",
              "    .dataframe thead th {\n",
              "        text-align: right;\n",
              "    }\n",
              "</style>\n",
              "<table border=\"1\" class=\"dataframe\">\n",
              "  <thead>\n",
              "    <tr style=\"text-align: right;\">\n",
              "      <th></th>\n",
              "      <th>name</th>\n",
              "      <th>type</th>\n",
              "      <th>id</th>\n",
              "      <th>messages</th>\n",
              "    </tr>\n",
              "  </thead>\n",
              "  <tbody>\n",
              "    <tr>\n",
              "      <th>0</th>\n",
              "      <td>Кирилл Стремоусов</td>\n",
              "      <td>public_channel</td>\n",
              "      <td>1693592714</td>\n",
              "      <td>{'id': 687, 'type': 'message', 'date': '2022-1...</td>\n",
              "    </tr>\n",
              "    <tr>\n",
              "      <th>1</th>\n",
              "      <td>Кирилл Стремоусов</td>\n",
              "      <td>public_channel</td>\n",
              "      <td>1693592714</td>\n",
              "      <td>{'id': 688, 'type': 'message', 'date': '2022-1...</td>\n",
              "    </tr>\n",
              "  </tbody>\n",
              "</table>\n",
              "</div>"
            ],
            "text/plain": [
              "                name            type          id  \\\n",
              "0  Кирилл Стремоусов  public_channel  1693592714   \n",
              "1  Кирилл Стремоусов  public_channel  1693592714   \n",
              "\n",
              "                                            messages  \n",
              "0  {'id': 687, 'type': 'message', 'date': '2022-1...  \n",
              "1  {'id': 688, 'type': 'message', 'date': '2022-1...  "
            ]
          },
          "execution_count": 6,
          "metadata": {},
          "output_type": "execute_result"
        }
      ],
      "source": [
        "raw_json = pd.read_json('data/result.json')\n",
        "raw_json.head(2)"
      ]
    },
    {
      "cell_type": "code",
      "execution_count": null,
      "id": "c1f4a4bb",
      "metadata": {
        "hidden": true,
        "id": "c1f4a4bb",
        "outputId": "2759071d-552c-4bbc-9d34-d65cc59095e2"
      },
      "outputs": [
        {
          "data": {
            "text/html": [
              "<div>\n",
              "<style scoped>\n",
              "    .dataframe tbody tr th:only-of-type {\n",
              "        vertical-align: middle;\n",
              "    }\n",
              "\n",
              "    .dataframe tbody tr th {\n",
              "        vertical-align: top;\n",
              "    }\n",
              "\n",
              "    .dataframe thead th {\n",
              "        text-align: right;\n",
              "    }\n",
              "</style>\n",
              "<table border=\"1\" class=\"dataframe\">\n",
              "  <thead>\n",
              "    <tr style=\"text-align: right;\">\n",
              "      <th></th>\n",
              "      <th>id</th>\n",
              "      <th>type</th>\n",
              "      <th>date</th>\n",
              "      <th>date_unixtime</th>\n",
              "      <th>edited</th>\n",
              "      <th>edited_unixtime</th>\n",
              "      <th>from</th>\n",
              "      <th>from_id</th>\n",
              "      <th>file</th>\n",
              "      <th>thumbnail</th>\n",
              "      <th>media_type</th>\n",
              "      <th>mime_type</th>\n",
              "      <th>duration_seconds</th>\n",
              "      <th>width</th>\n",
              "      <th>height</th>\n",
              "      <th>text</th>\n",
              "      <th>text_entities</th>\n",
              "      <th>photo</th>\n",
              "      <th>forwarded_from</th>\n",
              "    </tr>\n",
              "  </thead>\n",
              "  <tbody>\n",
              "    <tr>\n",
              "      <th>0</th>\n",
              "      <td>687</td>\n",
              "      <td>message</td>\n",
              "      <td>2022-11-06T08:24:20</td>\n",
              "      <td>1667715860</td>\n",
              "      <td>2022-12-30T23:35:48</td>\n",
              "      <td>1672436148</td>\n",
              "      <td>Кирилл Стремоусов</td>\n",
              "      <td>channel1693592714</td>\n",
              "      <td>(File not included. Change data exporting sett...</td>\n",
              "      <td>(File not included. Change data exporting sett...</td>\n",
              "      <td>video_file</td>\n",
              "      <td>video/mp4</td>\n",
              "      <td>67.0</td>\n",
              "      <td>848</td>\n",
              "      <td>464</td>\n",
              "      <td>[{'type': 'bold', 'text': 'Херсонское направле...</td>\n",
              "      <td>[{'type': 'bold', 'text': 'Херсонское направле...</td>\n",
              "      <td>NaN</td>\n",
              "      <td>NaN</td>\n",
              "    </tr>\n",
              "  </tbody>\n",
              "</table>\n",
              "</div>"
            ],
            "text/plain": [
              "    id     type                 date date_unixtime               edited  \\\n",
              "0  687  message  2022-11-06T08:24:20    1667715860  2022-12-30T23:35:48   \n",
              "\n",
              "  edited_unixtime               from            from_id  \\\n",
              "0      1672436148  Кирилл Стремоусов  channel1693592714   \n",
              "\n",
              "                                                file  \\\n",
              "0  (File not included. Change data exporting sett...   \n",
              "\n",
              "                                           thumbnail  media_type  mime_type  \\\n",
              "0  (File not included. Change data exporting sett...  video_file  video/mp4   \n",
              "\n",
              "   duration_seconds  width  height  \\\n",
              "0              67.0    848     464   \n",
              "\n",
              "                                                text  \\\n",
              "0  [{'type': 'bold', 'text': 'Херсонское направле...   \n",
              "\n",
              "                                       text_entities photo forwarded_from  \n",
              "0  [{'type': 'bold', 'text': 'Херсонское направле...   NaN            NaN  "
            ]
          },
          "execution_count": 8,
          "metadata": {},
          "output_type": "execute_result"
        }
      ],
      "source": [
        "# розкладаємо словник messages в стовпчики\n",
        "json_df = pd.json_normalize(raw_json['messages'])  \n",
        "json_df.head(1)"
      ]
    },
    {
      "cell_type": "code",
      "execution_count": null,
      "id": "962d3d32",
      "metadata": {
        "hidden": true,
        "scrolled": true,
        "id": "962d3d32",
        "outputId": "02ea66a9-ec88-494f-c346-ff02a9955ddd"
      },
      "outputs": [
        {
          "data": {
            "text/plain": [
              "[{'type': 'bold', 'text': 'Херсонское направление на утро 06.11.2022.'},\n",
              " '\\n\\nЗначительные силы укровермахта стягиваются на подступах к Херсонской области. \\n\\nУкронацисты подталкиваемые своими американскими хозяевами вынуждены идти на верную смерть. \\n\\nКолонна бронеавтомобилей VAB, Husky TSV, \"Козак-2\" 46-й ОДШБр укровермахта в районе Давыдов Брод Херсонской области. \\n\\nВсе эти потуги нацистов продолжают заканчиваться перемалыванием и денацификацией. \\n\\nИтог этого братоубийственного положения дел уже известен даже тем, кто заварил эту кашу в 2014 году, сыграв злую шутку с Народом Украины.\\n\\nМногие американские и европейские политики понимают, что вся эта история, словно ловушка, затягивающая себя в воронку небытие. \\n\\nВраг будет разбит и победа будет за Россией, несмотря ни на что. \\n\\n',\n",
              " {'type': 'italic',\n",
              "  'text': 'В Херсоне эвакуация мирных граждан продолжается. Жители города ещё могут беспрепятственно покинуть правобережную часть Херсонской области. '},\n",
              " '\\n\\n',\n",
              " {'type': 'hashtag', 'text': '#Сталин'},\n",
              " ' ',\n",
              " {'type': 'hashtag', 'text': '#Стремоусов'},\n",
              " ' \\n',\n",
              " {'type': 'hashtag', 'text': '#Херсон'},\n",
              " ' ',\n",
              " {'type': 'hashtag', 'text': '#Путин'},\n",
              " ' ',\n",
              " {'type': 'hashtag', 'text': '#Россия'},\n",
              " ' \\n',\n",
              " {'type': 'hashtag', 'text': '#СвоихНеБросаем'},\n",
              " '\\n',\n",
              " {'type': 'hashtag', 'text': '#Битва_За_Херсон'},\n",
              " '']"
            ]
          },
          "execution_count": 9,
          "metadata": {},
          "output_type": "execute_result"
        }
      ],
      "source": [
        "json_df.loc[0,'text']"
      ]
    },
    {
      "cell_type": "code",
      "execution_count": null,
      "id": "381c7e52",
      "metadata": {
        "hidden": true,
        "id": "381c7e52"
      },
      "outputs": [],
      "source": [
        "def text_parser(msg_content):\n",
        "    if type(msg_content) == list:\n",
        "        txt_content = \"\"\n",
        "        for part in msg_content:\n",
        "            if type(part) == str: txt_content += part\n",
        "            elif type(part) == dict: txt_content += part[\"text\"]\n",
        "    elif type(msg_content) == str:\n",
        "        txt_content = msg_content\n",
        "\n",
        "    return txt_content"
      ]
    },
    {
      "cell_type": "code",
      "execution_count": null,
      "id": "e88a2533",
      "metadata": {
        "hidden": true,
        "scrolled": false,
        "id": "e88a2533",
        "outputId": "5c9cd1c9-43a0-43da-cc93-737d6671a91c"
      },
      "outputs": [
        {
          "name": "stdout",
          "output_type": "stream",
          "text": [
            "Херсонское направление на утро 06.11.2022.\n",
            "\n",
            "Значительные силы укровермахта стягиваются на подступах к Херсонской области. \n",
            "\n",
            "Укронацисты подталкиваемые своими американскими хозяевами вынуждены идти на верную смерть. \n",
            "\n",
            "Колонна бронеавтомобилей VAB, Husky TSV, \"Козак-2\" 46-й ОДШБр укровермахта в районе Давыдов Брод Херсонской области. \n",
            "\n",
            "Все эти потуги нацистов продолжают заканчиваться перемалыванием и денацификацией. \n",
            "\n",
            "Итог этого братоубийственного положения дел уже известен даже тем, кто заварил эту кашу в 2014 году, сыграв злую шутку с Народом Украины.\n",
            "\n",
            "Многие американские и европейские политики понимают, что вся эта история, словно ловушка, затягивающая себя в воронку небытие. \n",
            "\n",
            "Враг будет разбит и победа будет за Россией, несмотря ни на что. \n",
            "\n",
            "В Херсоне эвакуация мирных граждан продолжается. Жители города ещё могут беспрепятственно покинуть правобережную часть Херсонской области. \n",
            "\n",
            "#Сталин #Стремоусов \n",
            "#Херсон #Путин #Россия \n",
            "#СвоихНеБросаем\n",
            "#Битва_За_Херсон\n"
          ]
        }
      ],
      "source": [
        "print(text_parser(json_df.loc[0,'text']))"
      ]
    },
    {
      "cell_type": "code",
      "execution_count": null,
      "id": "acfc275e",
      "metadata": {
        "hidden": true,
        "id": "acfc275e"
      },
      "outputs": [],
      "source": [
        "json_df['text'] = json_df['text'].apply(text_parser)"
      ]
    },
    {
      "cell_type": "code",
      "execution_count": null,
      "id": "e6314054",
      "metadata": {
        "hidden": true,
        "id": "e6314054",
        "outputId": "e9fb490b-2148-4b6e-f906-ee795ff1e0e6"
      },
      "outputs": [
        {
          "data": {
            "text/html": [
              "<div>\n",
              "<style scoped>\n",
              "    .dataframe tbody tr th:only-of-type {\n",
              "        vertical-align: middle;\n",
              "    }\n",
              "\n",
              "    .dataframe tbody tr th {\n",
              "        vertical-align: top;\n",
              "    }\n",
              "\n",
              "    .dataframe thead th {\n",
              "        text-align: right;\n",
              "    }\n",
              "</style>\n",
              "<table border=\"1\" class=\"dataframe\">\n",
              "  <thead>\n",
              "    <tr style=\"text-align: right;\">\n",
              "      <th></th>\n",
              "      <th>id</th>\n",
              "      <th>type</th>\n",
              "      <th>date</th>\n",
              "      <th>date_unixtime</th>\n",
              "      <th>edited</th>\n",
              "      <th>edited_unixtime</th>\n",
              "      <th>from</th>\n",
              "      <th>from_id</th>\n",
              "      <th>file</th>\n",
              "      <th>thumbnail</th>\n",
              "      <th>media_type</th>\n",
              "      <th>mime_type</th>\n",
              "      <th>duration_seconds</th>\n",
              "      <th>width</th>\n",
              "      <th>height</th>\n",
              "      <th>text</th>\n",
              "      <th>text_entities</th>\n",
              "      <th>photo</th>\n",
              "      <th>forwarded_from</th>\n",
              "    </tr>\n",
              "  </thead>\n",
              "  <tbody>\n",
              "    <tr>\n",
              "      <th>0</th>\n",
              "      <td>687</td>\n",
              "      <td>message</td>\n",
              "      <td>2022-11-06T08:24:20</td>\n",
              "      <td>1667715860</td>\n",
              "      <td>2022-12-30T23:35:48</td>\n",
              "      <td>1672436148</td>\n",
              "      <td>Кирилл Стремоусов</td>\n",
              "      <td>channel1693592714</td>\n",
              "      <td>(File not included. Change data exporting sett...</td>\n",
              "      <td>(File not included. Change data exporting sett...</td>\n",
              "      <td>video_file</td>\n",
              "      <td>video/mp4</td>\n",
              "      <td>67.0</td>\n",
              "      <td>848</td>\n",
              "      <td>464</td>\n",
              "      <td>Херсонское направление на утро 06.11.2022.\\n\\n...</td>\n",
              "      <td>[{'type': 'bold', 'text': 'Херсонское направле...</td>\n",
              "      <td>NaN</td>\n",
              "      <td>NaN</td>\n",
              "    </tr>\n",
              "    <tr>\n",
              "      <th>1</th>\n",
              "      <td>688</td>\n",
              "      <td>message</td>\n",
              "      <td>2022-11-06T10:55:48</td>\n",
              "      <td>1667724948</td>\n",
              "      <td>2022-12-30T23:35:48</td>\n",
              "      <td>1672436148</td>\n",
              "      <td>Кирилл Стремоусов</td>\n",
              "      <td>channel1693592714</td>\n",
              "      <td>NaN</td>\n",
              "      <td>NaN</td>\n",
              "      <td>NaN</td>\n",
              "      <td>NaN</td>\n",
              "      <td>NaN</td>\n",
              "      <td>1228</td>\n",
              "      <td>1268</td>\n",
              "      <td>Израильский журналист опубликовал фото укронац...</td>\n",
              "      <td>[{'type': 'bold', 'text': 'Израильский журнали...</td>\n",
              "      <td>(File not included. Change data exporting sett...</td>\n",
              "      <td>NaN</td>\n",
              "    </tr>\n",
              "    <tr>\n",
              "      <th>2</th>\n",
              "      <td>689</td>\n",
              "      <td>message</td>\n",
              "      <td>2022-11-06T11:36:54</td>\n",
              "      <td>1667727414</td>\n",
              "      <td>2022-12-30T23:35:48</td>\n",
              "      <td>1672436148</td>\n",
              "      <td>Кирилл Стремоусов</td>\n",
              "      <td>channel1693592714</td>\n",
              "      <td>NaN</td>\n",
              "      <td>NaN</td>\n",
              "      <td>NaN</td>\n",
              "      <td>NaN</td>\n",
              "      <td>NaN</td>\n",
              "      <td>1080</td>\n",
              "      <td>1080</td>\n",
              "      <td>В Администрацию Херсонской области поступают о...</td>\n",
              "      <td>[{'type': 'plain', 'text': 'В Администрацию Хе...</td>\n",
              "      <td>(File not included. Change data exporting sett...</td>\n",
              "      <td>NaN</td>\n",
              "    </tr>\n",
              "  </tbody>\n",
              "</table>\n",
              "</div>"
            ],
            "text/plain": [
              "    id     type                 date date_unixtime               edited  \\\n",
              "0  687  message  2022-11-06T08:24:20    1667715860  2022-12-30T23:35:48   \n",
              "1  688  message  2022-11-06T10:55:48    1667724948  2022-12-30T23:35:48   \n",
              "2  689  message  2022-11-06T11:36:54    1667727414  2022-12-30T23:35:48   \n",
              "\n",
              "  edited_unixtime               from            from_id  \\\n",
              "0      1672436148  Кирилл Стремоусов  channel1693592714   \n",
              "1      1672436148  Кирилл Стремоусов  channel1693592714   \n",
              "2      1672436148  Кирилл Стремоусов  channel1693592714   \n",
              "\n",
              "                                                file  \\\n",
              "0  (File not included. Change data exporting sett...   \n",
              "1                                                NaN   \n",
              "2                                                NaN   \n",
              "\n",
              "                                           thumbnail  media_type  mime_type  \\\n",
              "0  (File not included. Change data exporting sett...  video_file  video/mp4   \n",
              "1                                                NaN         NaN        NaN   \n",
              "2                                                NaN         NaN        NaN   \n",
              "\n",
              "   duration_seconds  width  height  \\\n",
              "0              67.0    848     464   \n",
              "1               NaN   1228    1268   \n",
              "2               NaN   1080    1080   \n",
              "\n",
              "                                                text  \\\n",
              "0  Херсонское направление на утро 06.11.2022.\\n\\n...   \n",
              "1  Израильский журналист опубликовал фото укронац...   \n",
              "2  В Администрацию Херсонской области поступают о...   \n",
              "\n",
              "                                       text_entities  \\\n",
              "0  [{'type': 'bold', 'text': 'Херсонское направле...   \n",
              "1  [{'type': 'bold', 'text': 'Израильский журнали...   \n",
              "2  [{'type': 'plain', 'text': 'В Администрацию Хе...   \n",
              "\n",
              "                                               photo forwarded_from  \n",
              "0                                                NaN            NaN  \n",
              "1  (File not included. Change data exporting sett...            NaN  \n",
              "2  (File not included. Change data exporting sett...            NaN  "
            ]
          },
          "execution_count": 13,
          "metadata": {},
          "output_type": "execute_result"
        }
      ],
      "source": [
        "json_df.head(3)"
      ]
    },
    {
      "cell_type": "markdown",
      "id": "294f2437",
      "metadata": {
        "hidden": true,
        "id": "294f2437"
      },
      "source": [
        "**Приклад використання** (завантажили і проаналізувати 20К зображень з херсонських окупаційних каналів): [https://texty.org.ua/articles/108181/hersonski-dity-v-obyektyvi-rosijskoyi-propahandy/](https://texty.org.ua/articles/108181/hersonski-dity-v-obyektyvi-rosijskoyi-propahandy/)\n",
        "\n",
        "**Переваги:**\n",
        "\n",
        "1. Найлегший спосіб вивантаження медіафайлів\n",
        "2. Легко вивантажувати закриті групи\n",
        "3. Можна вивантажувати канали не підписуючись на них\n",
        "4. Можна вивантажити html (для зручного та доступного “архіву”)\n",
        "5. Вивантажує зручний для аналізу json файл (але є нюанс)\n",
        "\n",
        "**Недоліки:**\n",
        "\n",
        "1. Для повноцінного аналізу потрібен парсер для специфіцчного багатошарового json-файлу\n",
        "2. “Ручна робота” → Зручно лише для одноразового вивантаження невеликої кількості каналів\n",
        "3. Немає інформації про перегляди або реакції"
      ]
    },
    {
      "cell_type": "markdown",
      "id": "2ab400d4",
      "metadata": {
        "heading_collapsed": true,
        "id": "2ab400d4"
      },
      "source": [
        "## snscrape"
      ]
    },
    {
      "cell_type": "markdown",
      "id": "26e5b9bd",
      "metadata": {
        "hidden": true,
        "id": "26e5b9bd"
      },
      "source": [
        "https://github.com/bellingcat/snscrape"
      ]
    },
    {
      "cell_type": "markdown",
      "id": "456ef881",
      "metadata": {
        "hidden": true,
        "id": "456ef881"
      },
      "source": [
        "### from terminal"
      ]
    },
    {
      "cell_type": "code",
      "execution_count": null,
      "id": "ddee10a7",
      "metadata": {
        "hidden": true,
        "id": "ddee10a7"
      },
      "outputs": [],
      "source": [
        "!pip3 install snscrape"
      ]
    },
    {
      "cell_type": "markdown",
      "id": "9f0fe0ba",
      "metadata": {
        "hidden": true,
        "id": "9f0fe0ba"
      },
      "source": [
        "`snscrape --jsonl --dump-locals telegram-channel ZNResp > ZNResp.json` - команда викачує один канал (ZNResp) в json"
      ]
    },
    {
      "cell_type": "code",
      "execution_count": null,
      "id": "ea283b86",
      "metadata": {
        "hidden": true,
        "id": "ea283b86"
      },
      "outputs": [],
      "source": [
        "!snscrape --jsonl --dump-locals --max-results 100 telegram-channel ZNResp > data/ZNResp.json"
      ]
    },
    {
      "cell_type": "code",
      "execution_count": null,
      "id": "365554ee",
      "metadata": {
        "hidden": true,
        "scrolled": true,
        "id": "365554ee",
        "outputId": "38317f79-7ac2-4858-8ba8-4e7441a69e08"
      },
      "outputs": [
        {
          "data": {
            "text/html": [
              "<div>\n",
              "<style scoped>\n",
              "    .dataframe tbody tr th:only-of-type {\n",
              "        vertical-align: middle;\n",
              "    }\n",
              "\n",
              "    .dataframe tbody tr th {\n",
              "        vertical-align: top;\n",
              "    }\n",
              "\n",
              "    .dataframe thead th {\n",
              "        text-align: right;\n",
              "    }\n",
              "</style>\n",
              "<table border=\"1\" class=\"dataframe\">\n",
              "  <thead>\n",
              "    <tr style=\"text-align: right;\">\n",
              "      <th></th>\n",
              "      <th>_type</th>\n",
              "      <th>url</th>\n",
              "      <th>date</th>\n",
              "      <th>content</th>\n",
              "      <th>outlinks</th>\n",
              "      <th>linkPreview</th>\n",
              "    </tr>\n",
              "  </thead>\n",
              "  <tbody>\n",
              "    <tr>\n",
              "      <th>0</th>\n",
              "      <td>snscrape.modules.telegram.TelegramPost</td>\n",
              "      <td>https://t.me/s/ZNResp/22465</td>\n",
              "      <td>2023-02-08 10:52:03+00:00</td>\n",
              "      <td>Ситуация на фронте Угледар-Сватово:Не смотря н...</td>\n",
              "      <td>[https://t.me/strelkovii/3896]</td>\n",
              "      <td>None</td>\n",
              "    </tr>\n",
              "    <tr>\n",
              "      <th>1</th>\n",
              "      <td>snscrape.modules.telegram.TelegramPost</td>\n",
              "      <td>https://t.me/s/ZNResp/22464</td>\n",
              "      <td>2023-02-08 10:51:37+00:00</td>\n",
              "      <td>🇧🇾🇿🇼🇦🇪 Зачем белорусский президент ездил в Зим...</td>\n",
              "      <td>[https://t.me/rybar/43397, https://rybar.ru/pi...</td>\n",
              "      <td>{'_type': 'snscrape.modules.telegram.LinkPrevi...</td>\n",
              "    </tr>\n",
              "    <tr>\n",
              "      <th>2</th>\n",
              "      <td>snscrape.modules.telegram.TelegramPost</td>\n",
              "      <td>https://t.me/s/ZNResp/22463</td>\n",
              "      <td>2023-02-08 08:04:25+00:00</td>\n",
              "      <td>https://donrf.livejournal.com/1307859.htmlВоенное</td>\n",
              "      <td>[https://t.me/donrf22/14586, https://donrf.liv...</td>\n",
              "      <td>{'_type': 'snscrape.modules.telegram.LinkPrevi...</td>\n",
              "    </tr>\n",
              "  </tbody>\n",
              "</table>\n",
              "</div>"
            ],
            "text/plain": [
              "                                    _type                          url  \\\n",
              "0  snscrape.modules.telegram.TelegramPost  https://t.me/s/ZNResp/22465   \n",
              "1  snscrape.modules.telegram.TelegramPost  https://t.me/s/ZNResp/22464   \n",
              "2  snscrape.modules.telegram.TelegramPost  https://t.me/s/ZNResp/22463   \n",
              "\n",
              "                       date  \\\n",
              "0 2023-02-08 10:52:03+00:00   \n",
              "1 2023-02-08 10:51:37+00:00   \n",
              "2 2023-02-08 08:04:25+00:00   \n",
              "\n",
              "                                             content  \\\n",
              "0  Ситуация на фронте Угледар-Сватово:Не смотря н...   \n",
              "1  🇧🇾🇿🇼🇦🇪 Зачем белорусский президент ездил в Зим...   \n",
              "2  https://donrf.livejournal.com/1307859.htmlВоенное   \n",
              "\n",
              "                                            outlinks  \\\n",
              "0                     [https://t.me/strelkovii/3896]   \n",
              "1  [https://t.me/rybar/43397, https://rybar.ru/pi...   \n",
              "2  [https://t.me/donrf22/14586, https://donrf.liv...   \n",
              "\n",
              "                                         linkPreview  \n",
              "0                                               None  \n",
              "1  {'_type': 'snscrape.modules.telegram.LinkPrevi...  \n",
              "2  {'_type': 'snscrape.modules.telegram.LinkPrevi...  "
            ]
          },
          "execution_count": 15,
          "metadata": {},
          "output_type": "execute_result"
        }
      ],
      "source": [
        "df = pd.read_json('data/ZNResp.json', lines=True)\n",
        "df.head(3)"
      ]
    },
    {
      "cell_type": "markdown",
      "id": "5bec3d7d",
      "metadata": {
        "hidden": true,
        "id": "5bec3d7d"
      },
      "source": [
        "### in python"
      ]
    },
    {
      "cell_type": "code",
      "execution_count": null,
      "id": "f434fabc",
      "metadata": {
        "hidden": true,
        "id": "f434fabc"
      },
      "outputs": [],
      "source": [
        "from snscrape import modules\n",
        "import json"
      ]
    },
    {
      "cell_type": "code",
      "execution_count": null,
      "id": "5c7e34c8",
      "metadata": {
        "hidden": true,
        "id": "5c7e34c8"
      },
      "outputs": [],
      "source": [
        "# дата до якої качати пости\n",
        "first_date = datetime.strptime('01.02.2023 00:00:00', '%d.%m.%Y %H:%M:%S')\n",
        "\n",
        "# який канал качати\n",
        "first_channel = modules.telegram.TelegramChannelScraper(\"hercon_ru\")"
      ]
    },
    {
      "cell_type": "code",
      "execution_count": null,
      "id": "ebac407a",
      "metadata": {
        "hidden": true,
        "id": "ebac407a",
        "outputId": "9d9af1ed-99cd-447d-829b-1e47a7bdf123"
      },
      "outputs": [
        {
          "name": "stderr",
          "output_type": "stream",
          "text": [
            "100it [00:01, 61.08it/s]\n"
          ]
        }
      ],
      "source": [
        "first_channel_dict = {}\n",
        "n=1\n",
        "\n",
        "for d in tqdm(first_channel.get_items()):\n",
        "    one_post = json.loads(d.json())\n",
        "    \n",
        "    post_date = datetime.strptime(one_post['date'].split('+')[0], \n",
        "                                  '%Y-%m-%dT%H:%M:%S')\n",
        "    \n",
        "    if post_date > first_date:\n",
        "        first_channel_dict.update({ n : one_post })\n",
        "        n += 1\n",
        "    \n",
        "    else: \n",
        "        break"
      ]
    },
    {
      "cell_type": "code",
      "execution_count": null,
      "id": "5e272801",
      "metadata": {
        "hidden": true,
        "id": "5e272801"
      },
      "outputs": [],
      "source": [
        "df = pd.DataFrame.from_dict(first_channel_dict, orient='index')"
      ]
    },
    {
      "cell_type": "code",
      "execution_count": null,
      "id": "7989ae0f",
      "metadata": {
        "hidden": true,
        "scrolled": true,
        "id": "7989ae0f",
        "outputId": "b5ddaabb-680c-4d0a-a956-6b8ba0d2094e"
      },
      "outputs": [
        {
          "data": {
            "text/html": [
              "<div>\n",
              "<style scoped>\n",
              "    .dataframe tbody tr th:only-of-type {\n",
              "        vertical-align: middle;\n",
              "    }\n",
              "\n",
              "    .dataframe tbody tr th {\n",
              "        vertical-align: top;\n",
              "    }\n",
              "\n",
              "    .dataframe thead th {\n",
              "        text-align: right;\n",
              "    }\n",
              "</style>\n",
              "<table border=\"1\" class=\"dataframe\">\n",
              "  <thead>\n",
              "    <tr style=\"text-align: right;\">\n",
              "      <th></th>\n",
              "      <th>_type</th>\n",
              "      <th>url</th>\n",
              "      <th>date</th>\n",
              "      <th>content</th>\n",
              "      <th>outlinks</th>\n",
              "      <th>linkPreview</th>\n",
              "    </tr>\n",
              "  </thead>\n",
              "  <tbody>\n",
              "    <tr>\n",
              "      <th>1</th>\n",
              "      <td>snscrape.modules.telegram.TelegramPost</td>\n",
              "      <td>https://t.me/s/hercon_ru/5951</td>\n",
              "      <td>2023-02-08T14:40:44+00:00</td>\n",
              "      <td>Жителям 15-километровой зоны Херсонской област...</td>\n",
              "      <td>[]</td>\n",
              "      <td>None</td>\n",
              "    </tr>\n",
              "    <tr>\n",
              "      <th>2</th>\n",
              "      <td>snscrape.modules.telegram.TelegramPost</td>\n",
              "      <td>https://t.me/s/hercon_ru/5950</td>\n",
              "      <td>2023-02-08T13:31:19+00:00</td>\n",
              "      <td>Аграрии Генического и Новотроицкого районов по...</td>\n",
              "      <td>[https://t.me/Genichesk_ru/3718]</td>\n",
              "      <td>None</td>\n",
              "    </tr>\n",
              "  </tbody>\n",
              "</table>\n",
              "</div>"
            ],
            "text/plain": [
              "                                    _type                            url  \\\n",
              "1  snscrape.modules.telegram.TelegramPost  https://t.me/s/hercon_ru/5951   \n",
              "2  snscrape.modules.telegram.TelegramPost  https://t.me/s/hercon_ru/5950   \n",
              "\n",
              "                        date  \\\n",
              "1  2023-02-08T14:40:44+00:00   \n",
              "2  2023-02-08T13:31:19+00:00   \n",
              "\n",
              "                                             content  \\\n",
              "1  Жителям 15-километровой зоны Херсонской област...   \n",
              "2  Аграрии Генического и Новотроицкого районов по...   \n",
              "\n",
              "                           outlinks linkPreview  \n",
              "1                                []        None  \n",
              "2  [https://t.me/Genichesk_ru/3718]        None  "
            ]
          },
          "execution_count": 20,
          "metadata": {},
          "output_type": "execute_result"
        }
      ],
      "source": [
        "df.head(2)"
      ]
    },
    {
      "cell_type": "markdown",
      "id": "040a69d8",
      "metadata": {
        "hidden": true,
        "id": "040a69d8"
      },
      "source": [
        "**Приклад використання:** [https://texty.org.ua/projects/108016/telehram-okupaciya-yak-rosiya-vybudovuvala-mediamerezhu-vyjshlo-potomkinske-selo/](https://texty.org.ua/projects/108016/telehram-okupaciya-yak-rosiya-vybudovuvala-mediamerezhu-vyjshlo-potomkinske-selo/)\n",
        "\n",
        "**Переваги:**\n",
        "\n",
        "1. Не потребує наявності профілю в Телеграм\n",
        "2. Простий спосіб регулярно завантажувати стрічку з багатьох каналів\n",
        "3. Код можна “допилити” відповідно до ваших задач)\n",
        "\n",
        "**Недоліки:**\n",
        "\n",
        "1. Вивантажує лише публічні канали\n",
        "2. Не дає всієї інформації про пости (наприклад, коментарі або реакції)\n",
        "3. Є нюанс з розпізнанням репостів"
      ]
    },
    {
      "cell_type": "markdown",
      "id": "cd316139",
      "metadata": {
        "heading_collapsed": true,
        "id": "cd316139"
      },
      "source": [
        "## Telethon"
      ]
    },
    {
      "cell_type": "markdown",
      "id": "b06db111",
      "metadata": {
        "hidden": true,
        "id": "b06db111"
      },
      "source": [
        "[https://github.com/LonamiWebs/Telethon](https://github.com/LonamiWebs/Telethon)\n",
        "\n",
        "[Telethon's Documentation - Telethon 1.27.0 documentation](https://docs.telethon.dev/)"
      ]
    },
    {
      "cell_type": "code",
      "execution_count": null,
      "id": "b8ece690",
      "metadata": {
        "hidden": true,
        "scrolled": true,
        "id": "b8ece690"
      },
      "outputs": [],
      "source": [
        "from telethon import TelegramClient\n",
        "from telethon import functions, types\n",
        "from telethon.tl.functions.messages import GetHistoryRequest "
      ]
    },
    {
      "cell_type": "code",
      "execution_count": null,
      "id": "a7e165f9",
      "metadata": {
        "hidden": true,
        "id": "a7e165f9"
      },
      "outputs": [],
      "source": [
        "# отримати id та hash можна тут: https://core.telegram.org/api/obtaining_api_id\n",
        "\n",
        "# Syntax\n",
        "api_id = \"\"\n",
        "api_hash = \"\"\n",
        "client = TelegramClient('session', api_id, api_hash)"
      ]
    },
    {
      "cell_type": "code",
      "execution_count": null,
      "id": "4ed055e1",
      "metadata": {
        "hidden": true,
        "id": "4ed055e1"
      },
      "outputs": [],
      "source": [
        "f = open('pass.txt',\"r\")\n",
        "lines = f.readlines()\n",
        "api_id = lines[0]\n",
        "api_hash = lines[1]\n",
        "f.close()\n",
        "\n",
        "client = TelegramClient('scraping_training', api_id, api_hash)"
      ]
    },
    {
      "cell_type": "code",
      "execution_count": null,
      "id": "402d299c",
      "metadata": {
        "hidden": true,
        "id": "402d299c"
      },
      "outputs": [],
      "source": [
        "await client.start()"
      ]
    },
    {
      "cell_type": "code",
      "execution_count": null,
      "id": "ae3597e0",
      "metadata": {
        "hidden": true,
        "id": "ae3597e0"
      },
      "outputs": [],
      "source": [
        "channel_name= \"energynewz\""
      ]
    },
    {
      "cell_type": "code",
      "execution_count": null,
      "id": "55299226",
      "metadata": {
        "hidden": true,
        "id": "55299226"
      },
      "outputs": [],
      "source": [
        "# download 100 posts\n",
        "posts = await client(GetHistoryRequest(\n",
        "    peer=channel_name,\n",
        "    limit=100,\n",
        "    offset_date=datetime(2023, 2, 1), #date to start scrape\n",
        "    offset_id=0,\n",
        "    max_id=0,\n",
        "    min_id=0,\n",
        "    add_offset=0,\n",
        "    hash=0))"
      ]
    },
    {
      "cell_type": "code",
      "execution_count": null,
      "id": "4eb077c9",
      "metadata": {
        "hidden": true,
        "id": "4eb077c9",
        "outputId": "8b3f7688-9435-402d-c1d5-0005906ec7f0"
      },
      "outputs": [
        {
          "data": {
            "text/plain": [
              "<telethon.tl.types.messages.ChannelMessages at 0x137a6b6a0>"
            ]
          },
          "execution_count": 24,
          "metadata": {},
          "output_type": "execute_result"
        }
      ],
      "source": [
        "posts"
      ]
    },
    {
      "cell_type": "code",
      "execution_count": null,
      "id": "ea5b7684",
      "metadata": {
        "hidden": true,
        "id": "ea5b7684"
      },
      "outputs": [],
      "source": [
        "cols = ['id','date','message','mentioned','views']\n",
        "dff = pd.DataFrame(columns=cols)\n",
        "dff = dff.astype({\"mentioned\":bool})\n",
        "\n",
        "for message in posts.messages:\n",
        "    d = {}\n",
        "    for colname in cols:\n",
        "        d[colname] = getattr(message, colname)\n",
        "    d['m'] = message\n",
        "    dff = pd.concat([dff, pd.DataFrame(d, index=[0])], ignore_index=True)"
      ]
    },
    {
      "cell_type": "code",
      "execution_count": null,
      "id": "c6c761d9",
      "metadata": {
        "hidden": true,
        "id": "c6c761d9",
        "outputId": "c2b5500e-4af4-4881-ee9f-5f2d846a275d"
      },
      "outputs": [
        {
          "data": {
            "text/html": [
              "<div>\n",
              "<style scoped>\n",
              "    .dataframe tbody tr th:only-of-type {\n",
              "        vertical-align: middle;\n",
              "    }\n",
              "\n",
              "    .dataframe tbody tr th {\n",
              "        vertical-align: top;\n",
              "    }\n",
              "\n",
              "    .dataframe thead th {\n",
              "        text-align: right;\n",
              "    }\n",
              "</style>\n",
              "<table border=\"1\" class=\"dataframe\">\n",
              "  <thead>\n",
              "    <tr style=\"text-align: right;\">\n",
              "      <th></th>\n",
              "      <th>id</th>\n",
              "      <th>date</th>\n",
              "      <th>message</th>\n",
              "      <th>mentioned</th>\n",
              "      <th>views</th>\n",
              "      <th>m</th>\n",
              "    </tr>\n",
              "  </thead>\n",
              "  <tbody>\n",
              "    <tr>\n",
              "      <th>0</th>\n",
              "      <td>39440</td>\n",
              "      <td>2023-01-31 23:17:30+00:00</td>\n",
              "      <td></td>\n",
              "      <td>False</td>\n",
              "      <td>7493</td>\n",
              "      <td>Message(id=39440, peer_id=PeerChannel(channel_...</td>\n",
              "    </tr>\n",
              "    <tr>\n",
              "      <th>1</th>\n",
              "      <td>39439</td>\n",
              "      <td>2023-01-31 23:17:30+00:00</td>\n",
              "      <td>❗️США объявят о передаче Украине боеприпасов G...</td>\n",
              "      <td>False</td>\n",
              "      <td>7433</td>\n",
              "      <td>Message(id=39439, peer_id=PeerChannel(channel_...</td>\n",
              "    </tr>\n",
              "    <tr>\n",
              "      <th>2</th>\n",
              "      <td>39438</td>\n",
              "      <td>2023-01-31 22:21:47+00:00</td>\n",
              "      <td>💥🇺🇦Хохляцкий Т-64БВ на Сватовском направлении ...</td>\n",
              "      <td>False</td>\n",
              "      <td>7342</td>\n",
              "      <td>Message(id=39438, peer_id=PeerChannel(channel_...</td>\n",
              "    </tr>\n",
              "    <tr>\n",
              "      <th>3</th>\n",
              "      <td>39437</td>\n",
              "      <td>2023-01-31 22:21:00+00:00</td>\n",
              "      <td>✈️🇷🇺«Основная задача - поражение средств ПВО»\\...</td>\n",
              "      <td>False</td>\n",
              "      <td>7333</td>\n",
              "      <td>Message(id=39437, peer_id=PeerChannel(channel_...</td>\n",
              "    </tr>\n",
              "    <tr>\n",
              "      <th>4</th>\n",
              "      <td>39436</td>\n",
              "      <td>2023-01-31 22:10:26+00:00</td>\n",
              "      <td>Бои в Угледаре и расширение зоны контроля в ра...</td>\n",
              "      <td>False</td>\n",
              "      <td>7263</td>\n",
              "      <td>Message(id=39436, peer_id=PeerChannel(channel_...</td>\n",
              "    </tr>\n",
              "  </tbody>\n",
              "</table>\n",
              "</div>"
            ],
            "text/plain": [
              "      id                      date  \\\n",
              "0  39440 2023-01-31 23:17:30+00:00   \n",
              "1  39439 2023-01-31 23:17:30+00:00   \n",
              "2  39438 2023-01-31 22:21:47+00:00   \n",
              "3  39437 2023-01-31 22:21:00+00:00   \n",
              "4  39436 2023-01-31 22:10:26+00:00   \n",
              "\n",
              "                                             message  mentioned views  \\\n",
              "0                                                         False  7493   \n",
              "1  ❗️США объявят о передаче Украине боеприпасов G...      False  7433   \n",
              "2  💥🇺🇦Хохляцкий Т-64БВ на Сватовском направлении ...      False  7342   \n",
              "3  ✈️🇷🇺«Основная задача - поражение средств ПВО»\\...      False  7333   \n",
              "4  Бои в Угледаре и расширение зоны контроля в ра...      False  7263   \n",
              "\n",
              "                                                   m  \n",
              "0  Message(id=39440, peer_id=PeerChannel(channel_...  \n",
              "1  Message(id=39439, peer_id=PeerChannel(channel_...  \n",
              "2  Message(id=39438, peer_id=PeerChannel(channel_...  \n",
              "3  Message(id=39437, peer_id=PeerChannel(channel_...  \n",
              "4  Message(id=39436, peer_id=PeerChannel(channel_...  "
            ]
          },
          "execution_count": 26,
          "metadata": {},
          "output_type": "execute_result"
        }
      ],
      "source": [
        "dff.head(5)"
      ]
    },
    {
      "cell_type": "code",
      "execution_count": null,
      "id": "213b5001",
      "metadata": {
        "hidden": true,
        "scrolled": true,
        "id": "213b5001",
        "outputId": "9570328a-eef8-42b5-958d-0157c624841d"
      },
      "outputs": [
        {
          "data": {
            "text/plain": [
              "'Message(id=39439, peer_id=PeerChannel(channel_id=1118084216), date=datetime.datetime(2023, 1, 31, 23, 17, 30, tzinfo=datetime.timezone.utc), message=\\'❗️США объявят о передаче Украине боеприпасов GLSDB с дальностью 150 километров до конца недели — Reuters.\\\\n\\\\nИздание сообщает об этом со ссылкой на американских чиновников, знакомых с вопросом. Помимо GLSDB, очередной пакет военной помощи будет включать в себя оборудование для ЗРК Patriot, высокоточные управляемые боеприпасы (видимо, 155-мм M982 Excalibur) и дополнительные ПТРК Javelin.\\\\n\\\\nРанее, еще в конце ноября, Reuters уже сообщал о возможности поставок Украине высокоточных боеприпасов GLSDB с дальностью до 150 км. Затем Politico анонсировало их передачу в прошлом пакете военной помощи, однако GLSDB так туда и не попали. И вот теперь, судя по всему, американские власти решили снабдить Украину данными ракетами.\\\\n\\\\nТакже представитель МИД России Мария Захарова заявляла, что передача Вашингтоном ракет большой дальности является очередной «красной чертой», но очевидно, что уже никто на Западе не воспринимает всерьез эту вербальную клоунаду. \\\\n\\\\n\\\\n\\\\n@energynewz\\', out=False, mentioned=False, media_unread=False, silent=False, post=True, from_scheduled=False, legacy=False, edit_hide=True, pinned=False, noforwards=False, from_id=None, fwd_from=None, via_bot_id=None, reply_to=None, media=MessageMediaPhoto(spoiler=False, photo=Photo(id=5389048736950372811, access_hash=-942379381758728191, file_reference=b\\'\\\\x02B\\\\xa4\\\\x9cx\\\\x00\\\\x00\\\\x9a\\\\x0fc\\\\xe3\\\\xb7)\\\\xeb\\\\xf9\\\\xc6\\\\xb0\\\\x90\\\\x90{\\\\x82\\\\xdc\\\\xd7JM\\\\xe0\\\\x0e}H\\', date=datetime.datetime(2023, 1, 31, 23, 12, 56, tzinfo=datetime.timezone.utc), sizes=[PhotoStrippedSize(type=\\'i\\', bytes=b\"\\\\x01\\\\x18(\\\\xd9\\\\xc57z\\\\xef\\\\xdb\\\\x9e~\\\\x94\\\\xad\\\\xbb\\\\x1f)\\\\xe6\\\\xa3\\\\xf3\\\\t\\\\xca\\\\xa7\\\\xcc\\\\xe3\\\\x83\\\\xe8(\\\\x017\\\\xf9d\\\\x97\\\\xc8\\\\x07\\\\xa0\\\\xeb\\\\xfa\\\\n\\\\x94r3\\\\x8cTB=\\\\x9f\\\\xbcl\\\\xc9\\'O\\\\xff\\\\x00UH\\\\x85\\\\x8a\\\\xe5\\\\x97i\\\\xf4\\\\xceh\\\\x01\\\\xd4QE\\\\x00G\\\\xbd\\\\xb7`\\\\xc4\\\\xd8\\\\xce3\\\\x91\\\\x8f\\\\xafZr\\\\xa2\\\\xa0\\\\xc2\\\\x80\\\\x05\\\\x14P\\\\x03\\\\xa84Q@\\\\r\\\\xdc\\\\xdf\\\\xdc?\\\\x98\\\\xa2\\\\x8a(\\\\x03\"), PhotoSize(type=\\'m\\', w=320, h=191, size=8232), PhotoSize(type=\\'x\\', w=800, h=477, size=28491), PhotoSizeProgressive(type=\\'y\\', w=1280, h=764, sizes=[5994, 13633, 24371, 31113, 44304])], dc_id=2, has_stickers=False, video_sizes=[]), ttl_seconds=None), reply_markup=None, entities=[MessageEntityBold(offset=0, length=107), MessageEntityItalic(offset=0, length=2), MessageEntityTextUrl(offset=115, length=8, url=\\'https://www.reuters.com/world/us-readies-2-bln-plus-ukraine-aid-package-with-longer-range-weapons-sources-2023-01-31/\\'), MessageEntityUnderline(offset=115, length=8), MessageEntityTextUrl(offset=424, length=11, url=\\'https://t.me/milinfolive/93808\\'), MessageEntityUnderline(offset=424, length=11), MessageEntityTextUrl(offset=537, length=12, url=\\'https://t.me/milinfolive/95722\\'), MessageEntityUnderline(offset=537, length=12), MessageEntityBold(offset=846, length=16), MessageEntityMention(offset=954, length=11)], views=7433, forwards=5, replies=MessageReplies(replies=274, replies_pts=867600, comments=True, recent_repliers=[PeerUser(user_id=5290216491), PeerUser(user_id=1295717831), PeerUser(user_id=670743015)], channel_id=1312956414, max_id=523994, read_max_id=522457), edit_date=datetime.datetime(2023, 1, 31, 23, 20, 25, tzinfo=datetime.timezone.utc), post_author=None, grouped_id=13401656400475522, reactions=MessageReactions(results=[ReactionCount(reaction=ReactionEmoji(emoticon=\\'👍\\'), count=43, chosen_order=None), ReactionCount(reaction=ReactionEmoji(emoticon=\\'🤬\\'), count=19, chosen_order=None), ReactionCount(reaction=ReactionEmoji(emoticon=\\'🤡\\'), count=19, chosen_order=None), ReactionCount(reaction=ReactionEmoji(emoticon=\\'❤\\'), count=3, chosen_order=None), ReactionCount(reaction=ReactionEmoji(emoticon=\\'💩\\'), count=2, chosen_order=None), ReactionCount(reaction=ReactionEmoji(emoticon=\\'🤔\\'), count=1, chosen_order=None)], min=False, can_see_list=False, recent_reactions=[]), restriction_reason=[], ttl_period=None)'"
            ]
          },
          "execution_count": 27,
          "metadata": {},
          "output_type": "execute_result"
        }
      ],
      "source": [
        "dff['m'].astype('str').iloc[1]"
      ]
    },
    {
      "cell_type": "code",
      "execution_count": null,
      "id": "03884f98",
      "metadata": {
        "hidden": true,
        "id": "03884f98",
        "outputId": "50b3928f-1c5b-441b-915b-249a41326c17"
      },
      "outputs": [
        {
          "name": "stdout",
          "output_type": "stream",
          "text": [
            "MessageReactions(results=[ReactionCount(reaction=ReactionEmoji(emoticon='👍'), count=43, chosen_order=None), ReactionCount(reaction=ReactionEmoji(emoticon='🤬'), count=19, chosen_order=None), ReactionCount(reaction=ReactionEmoji(emoticon='🤡'), count=19, chosen_order=None), ReactionCount(reaction=ReactionEmoji(emoticon='❤'), count=3, chosen_order=None), ReactionCount(reaction=ReactionEmoji(emoticon='💩'), count=2, chosen_order=None), ReactionCount(reaction=ReactionEmoji(emoticon='🤔'), count=1, chosen_order=None)], min=False, can_see_list=False, recent_reactions=[])\n"
          ]
        }
      ],
      "source": [
        "print(dff['m'][1].reactions)"
      ]
    },
    {
      "cell_type": "code",
      "execution_count": null,
      "id": "255a52b8",
      "metadata": {
        "hidden": true,
        "id": "255a52b8"
      },
      "outputs": [],
      "source": [
        "# download comments\n",
        "channel_entity = await client.get_entity(channel_name)\n",
        "\n",
        "all_comments=[]\n",
        "\n",
        "try:\n",
        "    await client.connect()\n",
        "    async for message in client.iter_messages(channel_entity, \n",
        "                                              reply_to = 39439): # 39439 = message id\n",
        "        all_comments.append(message)\n",
        "except Exception as e:\n",
        "    print(e)"
      ]
    },
    {
      "cell_type": "code",
      "execution_count": null,
      "id": "4d884fd6",
      "metadata": {
        "hidden": true,
        "id": "4d884fd6"
      },
      "outputs": [],
      "source": [
        "df_comments = pd.DataFrame()\n",
        "d = {}\n",
        "for one_comment in all_comments:\n",
        "    d['comment_id_tg'] = one_comment.id\n",
        "    d['comment_author'] = one_comment.from_id.user_id\n",
        "    d['comment_date'] = one_comment.date\n",
        "    d['comment_text'] = one_comment.text\n",
        "    d['comment_full_info'] = one_comment\n",
        "    \n",
        "    df_comments = pd.concat([df_comments, \n",
        "                             pd.DataFrame(d, index=[0])],ignore_index=True)"
      ]
    },
    {
      "cell_type": "code",
      "execution_count": null,
      "id": "f47cc3b2",
      "metadata": {
        "hidden": true,
        "id": "f47cc3b2",
        "outputId": "fd6f6b26-4619-4476-80f5-841806684902"
      },
      "outputs": [
        {
          "data": {
            "text/html": [
              "<div>\n",
              "<style scoped>\n",
              "    .dataframe tbody tr th:only-of-type {\n",
              "        vertical-align: middle;\n",
              "    }\n",
              "\n",
              "    .dataframe tbody tr th {\n",
              "        vertical-align: top;\n",
              "    }\n",
              "\n",
              "    .dataframe thead th {\n",
              "        text-align: right;\n",
              "    }\n",
              "</style>\n",
              "<table border=\"1\" class=\"dataframe\">\n",
              "  <thead>\n",
              "    <tr style=\"text-align: right;\">\n",
              "      <th></th>\n",
              "      <th>comment_id_tg</th>\n",
              "      <th>comment_author</th>\n",
              "      <th>comment_date</th>\n",
              "      <th>comment_text</th>\n",
              "      <th>comment_full_info</th>\n",
              "    </tr>\n",
              "  </thead>\n",
              "  <tbody>\n",
              "    <tr>\n",
              "      <th>0</th>\n",
              "      <td>523994</td>\n",
              "      <td>5290216491</td>\n",
              "      <td>2023-02-01 18:50:04+00:00</td>\n",
              "      <td>Мазохисты</td>\n",
              "      <td>Message(id=523994, peer_id=PeerChannel(channel...</td>\n",
              "    </tr>\n",
              "    <tr>\n",
              "      <th>1</th>\n",
              "      <td>523633</td>\n",
              "      <td>1295717831</td>\n",
              "      <td>2023-02-01 15:23:24+00:00</td>\n",
              "      <td>Леночка,ты кололась с нашим Президентом или пр...</td>\n",
              "      <td>Message(id=523633, peer_id=PeerChannel(channel...</td>\n",
              "    </tr>\n",
              "    <tr>\n",
              "      <th>2</th>\n",
              "      <td>523027</td>\n",
              "      <td>670743015</td>\n",
              "      <td>2023-02-01 07:33:32+00:00</td>\n",
              "      <td>Светочка, у вас президент наркоман со стажем, ...</td>\n",
              "      <td>Message(id=523027, peer_id=PeerChannel(channel...</td>\n",
              "    </tr>\n",
              "    <tr>\n",
              "      <th>3</th>\n",
              "      <td>523026</td>\n",
              "      <td>1811605786</td>\n",
              "      <td>2023-02-01 07:32:46+00:00</td>\n",
              "      <td>84</td>\n",
              "      <td>Message(id=523026, peer_id=PeerChannel(channel...</td>\n",
              "    </tr>\n",
              "    <tr>\n",
              "      <th>4</th>\n",
              "      <td>523014</td>\n",
              "      <td>5207447612</td>\n",
              "      <td>2023-02-01 07:10:40+00:00</td>\n",
              "      <td>Главное что ваши этот праздник отметили😄</td>\n",
              "      <td>Message(id=523014, peer_id=PeerChannel(channel...</td>\n",
              "    </tr>\n",
              "    <tr>\n",
              "      <th>...</th>\n",
              "      <td>...</td>\n",
              "      <td>...</td>\n",
              "      <td>...</td>\n",
              "      <td>...</td>\n",
              "      <td>...</td>\n",
              "    </tr>\n",
              "    <tr>\n",
              "      <th>269</th>\n",
              "      <td>522465</td>\n",
              "      <td>5176775217</td>\n",
              "      <td>2023-01-31 23:35:11+00:00</td>\n",
              "      <td>Хочешь быть как В.В. Путин?</td>\n",
              "      <td>Message(id=522465, peer_id=PeerChannel(channel...</td>\n",
              "    </tr>\n",
              "    <tr>\n",
              "      <th>270</th>\n",
              "      <td>522464</td>\n",
              "      <td>1623496133</td>\n",
              "      <td>2023-01-31 23:33:38+00:00</td>\n",
              "      <td>Я занимаюсь дзюдо. остерегаться</td>\n",
              "      <td>Message(id=522464, peer_id=PeerChannel(channel...</td>\n",
              "    </tr>\n",
              "    <tr>\n",
              "      <th>271</th>\n",
              "      <td>522463</td>\n",
              "      <td>961233650</td>\n",
              "      <td>2023-01-31 23:31:28+00:00</td>\n",
              "      <td>А потом завалы в Днепре разбирают и ноют))🤡</td>\n",
              "      <td>Message(id=522463, peer_id=PeerChannel(channel...</td>\n",
              "    </tr>\n",
              "    <tr>\n",
              "      <th>272</th>\n",
              "      <td>522462</td>\n",
              "      <td>5176775217</td>\n",
              "      <td>2023-01-31 23:31:10+00:00</td>\n",
              "      <td>Вам не дадут ракету,на которой можно в космос ...</td>\n",
              "      <td>Message(id=522462, peer_id=PeerChannel(channel...</td>\n",
              "    </tr>\n",
              "    <tr>\n",
              "      <th>273</th>\n",
              "      <td>522460</td>\n",
              "      <td>1623496133</td>\n",
              "      <td>2023-01-31 23:21:51+00:00</td>\n",
              "      <td>🚀🚀🚀🚀🚀🚀🚀🚀🚀🚀🚀🚀🚀🚀🚀</td>\n",
              "      <td>Message(id=522460, peer_id=PeerChannel(channel...</td>\n",
              "    </tr>\n",
              "  </tbody>\n",
              "</table>\n",
              "<p>274 rows × 5 columns</p>\n",
              "</div>"
            ],
            "text/plain": [
              "     comment_id_tg  comment_author              comment_date  \\\n",
              "0           523994      5290216491 2023-02-01 18:50:04+00:00   \n",
              "1           523633      1295717831 2023-02-01 15:23:24+00:00   \n",
              "2           523027       670743015 2023-02-01 07:33:32+00:00   \n",
              "3           523026      1811605786 2023-02-01 07:32:46+00:00   \n",
              "4           523014      5207447612 2023-02-01 07:10:40+00:00   \n",
              "..             ...             ...                       ...   \n",
              "269         522465      5176775217 2023-01-31 23:35:11+00:00   \n",
              "270         522464      1623496133 2023-01-31 23:33:38+00:00   \n",
              "271         522463       961233650 2023-01-31 23:31:28+00:00   \n",
              "272         522462      5176775217 2023-01-31 23:31:10+00:00   \n",
              "273         522460      1623496133 2023-01-31 23:21:51+00:00   \n",
              "\n",
              "                                          comment_text  \\\n",
              "0                                            Мазохисты   \n",
              "1    Леночка,ты кололась с нашим Президентом или пр...   \n",
              "2    Светочка, у вас президент наркоман со стажем, ...   \n",
              "3                                                   84   \n",
              "4             Главное что ваши этот праздник отметили😄   \n",
              "..                                                 ...   \n",
              "269                        Хочешь быть как В.В. Путин?   \n",
              "270                    Я занимаюсь дзюдо. остерегаться   \n",
              "271        А потом завалы в Днепре разбирают и ноют))🤡   \n",
              "272  Вам не дадут ракету,на которой можно в космос ...   \n",
              "273                                    🚀🚀🚀🚀🚀🚀🚀🚀🚀🚀🚀🚀🚀🚀🚀   \n",
              "\n",
              "                                     comment_full_info  \n",
              "0    Message(id=523994, peer_id=PeerChannel(channel...  \n",
              "1    Message(id=523633, peer_id=PeerChannel(channel...  \n",
              "2    Message(id=523027, peer_id=PeerChannel(channel...  \n",
              "3    Message(id=523026, peer_id=PeerChannel(channel...  \n",
              "4    Message(id=523014, peer_id=PeerChannel(channel...  \n",
              "..                                                 ...  \n",
              "269  Message(id=522465, peer_id=PeerChannel(channel...  \n",
              "270  Message(id=522464, peer_id=PeerChannel(channel...  \n",
              "271  Message(id=522463, peer_id=PeerChannel(channel...  \n",
              "272  Message(id=522462, peer_id=PeerChannel(channel...  \n",
              "273  Message(id=522460, peer_id=PeerChannel(channel...  \n",
              "\n",
              "[274 rows x 5 columns]"
            ]
          },
          "execution_count": 31,
          "metadata": {},
          "output_type": "execute_result"
        }
      ],
      "source": [
        "df_comments"
      ]
    },
    {
      "cell_type": "markdown",
      "id": "05519a08",
      "metadata": {
        "hidden": true,
        "id": "05519a08"
      },
      "source": [
        "**Переваги**:\n",
        "\n",
        "1. Можна витягти все, що вам потрібно\n",
        "2. “Найофіційніший” спосіб завантаження Телеграм\n",
        "\n",
        "**Недоліки**:\n",
        "\n",
        "1. Найскладніший із варіантів: треба розібратись з асинхронністю та полазити в документації\n",
        "2. Вас може забанити Телеграм 😅"
      ]
    }
  ],
  "metadata": {
    "kernelspec": {
      "display_name": "Python 3 (ipykernel)",
      "language": "python",
      "name": "python3"
    },
    "language_info": {
      "codemirror_mode": {
        "name": "ipython",
        "version": 3
      },
      "file_extension": ".py",
      "mimetype": "text/x-python",
      "name": "python",
      "nbconvert_exporter": "python",
      "pygments_lexer": "ipython3",
      "version": "3.9.6"
    },
    "toc": {
      "base_numbering": 1,
      "nav_menu": {},
      "number_sections": true,
      "sideBar": true,
      "skip_h1_title": true,
      "title_cell": "Table of Contents",
      "title_sidebar": "Contents",
      "toc_cell": true,
      "toc_position": {},
      "toc_section_display": true,
      "toc_window_display": false
    },
    "colab": {
      "provenance": [],
      "include_colab_link": true
    }
  },
  "nbformat": 4,
  "nbformat_minor": 5
}